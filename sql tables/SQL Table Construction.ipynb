{
 "cells": [
  {
   "cell_type": "markdown",
   "id": "95ec9c7d-4ac3-43bf-a6a4-ad48d92d331c",
   "metadata": {},
   "source": [
    "### Creating SQL Table for Project Data"
   ]
  },
  {
   "cell_type": "code",
   "execution_count": 10,
   "id": "b841b019-be53-438e-8f98-f0e2477b9be0",
   "metadata": {},
   "outputs": [],
   "source": [
    "#load library\n",
    "import pandas as pd\n",
    "import sqlite3 as sq\n",
    "\n",
    "#connect to the database, which - in the case of sqlite\n",
    "conn = sq.connect(\"project_data.db\")\n",
    "c = conn.cursor()"
   ]
  },
  {
   "cell_type": "code",
   "execution_count": null,
   "id": "d50aa094-7bdf-4afc-8666-14e96746c072",
   "metadata": {},
   "outputs": [],
   "source": []
  },
  {
   "cell_type": "code",
   "execution_count": null,
   "id": "a8858d31-6818-4c50-92d1-be408c6dfe18",
   "metadata": {},
   "outputs": [],
   "source": []
  },
  {
   "cell_type": "code",
   "execution_count": null,
   "id": "897dc77f-3077-48da-a51c-fd9d32c891df",
   "metadata": {},
   "outputs": [],
   "source": []
  },
  {
   "cell_type": "code",
   "execution_count": null,
   "id": "c58d10a2-7acc-4f95-8d1d-f260c4fd6dff",
   "metadata": {},
   "outputs": [],
   "source": []
  },
  {
   "cell_type": "code",
   "execution_count": null,
   "id": "0cdc5f91-d374-4de8-8286-4b2637d415ef",
   "metadata": {},
   "outputs": [],
   "source": []
  },
  {
   "cell_type": "code",
   "execution_count": null,
   "id": "39917801-ca25-4d63-a0b5-fd50dbb57ed7",
   "metadata": {},
   "outputs": [],
   "source": []
  },
  {
   "cell_type": "code",
   "execution_count": null,
   "id": "65294259-75c8-4242-b3aa-500e843952c2",
   "metadata": {},
   "outputs": [],
   "source": []
  },
  {
   "cell_type": "code",
   "execution_count": null,
   "id": "1528bf4e-429e-47e4-a18a-e58220c19db9",
   "metadata": {},
   "outputs": [],
   "source": []
  },
  {
   "cell_type": "code",
   "execution_count": null,
   "id": "9ee8dd10-9d86-49f1-a3d2-333ea803ab08",
   "metadata": {},
   "outputs": [],
   "source": []
  },
  {
   "cell_type": "code",
   "execution_count": null,
   "id": "9098d5c2-b095-437a-86a8-263f814d7f62",
   "metadata": {},
   "outputs": [],
   "source": []
  },
  {
   "cell_type": "code",
   "execution_count": null,
   "id": "763ca30c-1098-49d5-aafe-e198fc86841c",
   "metadata": {},
   "outputs": [],
   "source": []
  }
 ],
 "metadata": {
  "kernelspec": {
   "display_name": "Python 3 (ipykernel)",
   "language": "python",
   "name": "python3"
  },
  "language_info": {
   "codemirror_mode": {
    "name": "ipython",
    "version": 3
   },
   "file_extension": ".py",
   "mimetype": "text/x-python",
   "name": "python",
   "nbconvert_exporter": "python",
   "pygments_lexer": "ipython3",
   "version": "3.13.2"
  }
 },
 "nbformat": 4,
 "nbformat_minor": 5
}
