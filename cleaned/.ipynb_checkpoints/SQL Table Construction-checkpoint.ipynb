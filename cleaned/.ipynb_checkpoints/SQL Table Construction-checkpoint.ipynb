{
 "cells": [
  {
   "cell_type": "markdown",
   "id": "95ec9c7d-4ac3-43bf-a6a4-ad48d92d331c",
   "metadata": {},
   "source": [
    "### Creating SQL Tables for Project Data"
   ]
  },
  {
   "cell_type": "code",
   "execution_count": 1,
   "id": "b841b019-be53-438e-8f98-f0e2477b9be0",
   "metadata": {},
   "outputs": [],
   "source": [
    "#load library\n",
    "import pandas as pd\n",
    "import sqlite3 as sq\n",
    "\n",
    "#connect to the database, which - in the case of sqlite\n",
    "conn = sq.connect(\"project_data.db\")\n",
    "c = conn.cursor()"
   ]
  },
  {
   "cell_type": "code",
   "execution_count": 4,
   "id": "50f4e71e-3698-45e0-bebd-125233a79d1b",
   "metadata": {},
   "outputs": [
    {
     "data": {
      "text/plain": [
       "county             object\n",
       "year              float64\n",
       "month             float64\n",
       "wildfire_acres    float64\n",
       "dtype: object"
      ]
     },
     "execution_count": 4,
     "metadata": {},
     "output_type": "execute_result"
    }
   ],
   "source": [
    "#load dataframe and check data types before creating SQL table\n",
    "ca_fires = pd.read_csv(\"california_monthly_county_wildfire_acreage.csv\")\n",
    "ca_fires.dtypes"
   ]
  },
  {
   "cell_type": "markdown",
   "id": "07c5bf62-0076-4df9-a9d1-6bcb49a65618",
   "metadata": {},
   "source": [
    "**Creating table for wildfire data**"
   ]
  },
  {
   "cell_type": "code",
   "execution_count": 10,
   "id": "d50aa094-7bdf-4afc-8666-14e96746c072",
   "metadata": {},
   "outputs": [
    {
     "data": {
      "text/plain": [
       "<sqlite3.Cursor at 0x1055bb9c0>"
      ]
     },
     "execution_count": 10,
     "metadata": {},
     "output_type": "execute_result"
    }
   ],
   "source": [
    "#create table for county-month level fire data\n",
    "\n",
    "#drop table first if edits are needed\n",
    "c.execute(\"\"\" DROP TABLE IF EXISTS wildfires \"\"\")\n",
    "\n",
    "#create new wildfires table\n",
    "c.execute(\"\"\" CREATE TABLE wildfires (\n",
    "            county VARCHAR(50),\n",
    "            year FLOAT (6),\n",
    "            month FLOAT(3),\n",
    "            wildfire_acres FLOAT (25)\n",
    "            ) \"\"\")"
   ]
  },
  {
   "cell_type": "code",
   "execution_count": 18,
   "id": "10e8ec54-99e2-410d-828e-336d548bb5c2",
   "metadata": {},
   "outputs": [
    {
     "data": {
      "text/plain": [
       "county_name                 object\n",
       "county_fips                  int64\n",
       "year                         int64\n",
       "month                        int64\n",
       "date                        object\n",
       "precipitation_total_km3    float64\n",
       "max_temperature_c          float64\n",
       "dtype: object"
      ]
     },
     "execution_count": 18,
     "metadata": {},
     "output_type": "execute_result"
    }
   ],
   "source": [
    "#inspecting data frame for SQL table\n",
    "prism = pd.read_csv(\"all_county_prism_data.csv\")\n",
    "prism.head()\n",
    "prism.dtypes\n",
    "#print(prism.columns)"
   ]
  },
  {
   "cell_type": "markdown",
   "id": "9b381877-bb6f-4572-91ac-64e72b31a9ee",
   "metadata": {},
   "source": [
    "**Creating table for prism data**"
   ]
  },
  {
   "cell_type": "code",
   "execution_count": 19,
   "id": "b0d4e4bd-2fa4-4fcf-b5ed-a5457ffe1d9f",
   "metadata": {},
   "outputs": [
    {
     "data": {
      "text/plain": [
       "<sqlite3.Cursor at 0x1055bb9c0>"
      ]
     },
     "execution_count": 19,
     "metadata": {},
     "output_type": "execute_result"
    }
   ],
   "source": [
    "#drop table if edits are needed\n",
    "c.execute(\"\"\" DROP TABLE IF EXISTS prism \"\"\")\n",
    "\n",
    "\n",
    "#create new table for prism data\n",
    "c.execute(\"\"\" CREATE TABLE prism (\n",
    "            county_name VARCHAR(50),\n",
    "            county_fips INT(10),\n",
    "            year INT(5),\n",
    "            month INT(3),\n",
    "            date DATE,\n",
    "            precipitation_total_km3 FLOAT (25),\n",
    "            max_temperature_c FLOAT (10)\n",
    "            ) \"\"\")"
   ]
  },
  {
   "cell_type": "markdown",
   "id": "ea3ca02d-6d60-40a3-92d7-204916a477ca",
   "metadata": {},
   "source": [
    "**Creating table for CDC WONDER mortality data**"
   ]
  },
  {
   "cell_type": "code",
   "execution_count": 23,
   "id": "e1b52264-2b21-4bca-b4f6-8afbac7ea870",
   "metadata": {},
   "outputs": [
    {
     "data": {
      "text/plain": [
       "State           object\n",
       "County          object\n",
       "County Code    float64\n",
       "Year           float64\n",
       "Month          float64\n",
       "Deaths          object\n",
       "Population      object\n",
       "Crude Rate      object\n",
       "dtype: object"
      ]
     },
     "execution_count": 23,
     "metadata": {},
     "output_type": "execute_result"
    }
   ],
   "source": [
    "#inspecting data frame for SQL table\n",
    "cdc = pd.read_csv(\"cdc-hyperthermia-related-deaths.csv\")\n",
    "cdc.head()\n",
    "cdc.dtypes\n",
    "#print(prism.columns)"
   ]
  },
  {
   "cell_type": "code",
   "execution_count": null,
   "id": "897dc77f-3077-48da-a51c-fd9d32c891df",
   "metadata": {},
   "outputs": [],
   "source": [
    "#drop table first if edits are needed\n",
    "c.execute(\"\"\" DROP TABLE IF EXISTS mortality \"\"\")\n",
    "\n",
    "#create new table for mortality data\n",
    "c.execute(\"\"\" CREATE TABLE mortality (\n",
    "            state VARCHAR(50),\n",
    "            county INT(10),\n",
    "            county_code INT(5),\n",
    "            year FLOAT(5),\n",
    "            month FLOAT(3),\n",
    "            deaths VARCHAR(50),\n",
    "            population VARCHAR(50),\n",
    "            crude_rate VARCHAR(50)\n",
    "            ) \"\"\")"
   ]
  }
 ],
 "metadata": {
  "kernelspec": {
   "display_name": "Python 3 (ipykernel)",
   "language": "python",
   "name": "python3"
  },
  "language_info": {
   "codemirror_mode": {
    "name": "ipython",
    "version": 3
   },
   "file_extension": ".py",
   "mimetype": "text/x-python",
   "name": "python",
   "nbconvert_exporter": "python",
   "pygments_lexer": "ipython3",
   "version": "3.13.2"
  }
 },
 "nbformat": 4,
 "nbformat_minor": 5
}
