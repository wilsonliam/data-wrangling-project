{
 "cells": [
  {
   "cell_type": "markdown",
   "id": "95ec9c7d-4ac3-43bf-a6a4-ad48d92d331c",
   "metadata": {},
   "source": [
    "### Creating SQL Tables for Project Data"
   ]
  },
  {
   "cell_type": "code",
   "execution_count": 1,
   "id": "b841b019-be53-438e-8f98-f0e2477b9be0",
   "metadata": {},
   "outputs": [],
   "source": [
    "#load library\n",
    "import pandas as pd\n",
    "import sqlite3 as sq\n",
    "\n",
    "#connect to the database, which - in the case of sqlite\n",
    "conn = sq.connect(\"project_data.db\")\n",
    "c = conn.cursor()"
   ]
  },
  {
   "cell_type": "code",
   "execution_count": 2,
   "id": "50f4e71e-3698-45e0-bebd-125233a79d1b",
   "metadata": {},
   "outputs": [
    {
     "data": {
      "text/plain": [
       "county             object\n",
       "year              float64\n",
       "month             float64\n",
       "wildfire_acres    float64\n",
       "dtype: object"
      ]
     },
     "execution_count": 2,
     "metadata": {},
     "output_type": "execute_result"
    }
   ],
   "source": [
    "#load dataframe and check data types before creating SQL table\n",
    "ca_fires = pd.read_csv(\"california_monthly_county_wildfire_acreage.csv\")\n",
    "ca_fires.dtypes"
   ]
  },
  {
   "cell_type": "code",
   "execution_count": 3,
   "id": "03ddd0c8-ef76-482e-8c4e-1f2ec4366d27",
   "metadata": {},
   "outputs": [],
   "source": [
    "#loading in the rest of the data\n",
    "wa_fires = pd.read_csv(\"washington_monthly_county_wildfire_acreage.csv\")\n",
    "or_fires = pd.read_csv(\"oregon_monthly_county_wildfire_acreage.csv\")"
   ]
  },
  {
   "cell_type": "code",
   "execution_count": 4,
   "id": "d19d5c5e-c789-4ab4-aa1b-4ad51df701b6",
   "metadata": {},
   "outputs": [],
   "source": [
    "#renaming a column to match the sql table\n",
    "or_fires.rename(columns={'EstTotalAcres': 'wildfire_acres'}, inplace=True)"
   ]
  },
  {
   "cell_type": "markdown",
   "id": "07c5bf62-0076-4df9-a9d1-6bcb49a65618",
   "metadata": {},
   "source": [
    "**Creating and filling table for wildfire data**"
   ]
  },
  {
   "cell_type": "code",
   "execution_count": 5,
   "id": "d50aa094-7bdf-4afc-8666-14e96746c072",
   "metadata": {},
   "outputs": [
    {
     "data": {
      "text/plain": [
       "<sqlite3.Cursor at 0x28219871cc0>"
      ]
     },
     "execution_count": 5,
     "metadata": {},
     "output_type": "execute_result"
    }
   ],
   "source": [
    "#create table for county-month level fire data\n",
    "\n",
    "#drop table first if edits are needed\n",
    "c.execute(\"\"\" DROP TABLE IF EXISTS wildfires \"\"\")\n",
    "\n",
    "#create new wildfires table\n",
    "c.execute(\"\"\" CREATE TABLE wildfires (\n",
    "            county VARCHAR(50),\n",
    "            year FLOAT (6),\n",
    "            month FLOAT(3),\n",
    "            wildfire_acres FLOAT (25)\n",
    "            ) \"\"\")"
   ]
  },
  {
   "cell_type": "code",
   "execution_count": 6,
   "id": "9b4f943f-1da7-41fe-9130-e1a72dfbd85e",
   "metadata": {},
   "outputs": [
    {
     "data": {
      "text/plain": [
       "4085"
      ]
     },
     "execution_count": 6,
     "metadata": {},
     "output_type": "execute_result"
    }
   ],
   "source": [
    "#filling the table with data\n",
    "ca_fires.to_sql('wildfires', conn, if_exists='append', index=False)\n",
    "wa_fires.to_sql('wildfires', conn, if_exists='append', index=False)\n",
    "or_fires.to_sql('wildfires', conn, if_exists='append', index=False)"
   ]
  },
  {
   "cell_type": "code",
   "execution_count": 7,
   "id": "043a5d91-1037-402c-9bf6-69543c365214",
   "metadata": {},
   "outputs": [
    {
     "data": {
      "text/html": [
       "<div>\n",
       "<style scoped>\n",
       "    .dataframe tbody tr th:only-of-type {\n",
       "        vertical-align: middle;\n",
       "    }\n",
       "\n",
       "    .dataframe tbody tr th {\n",
       "        vertical-align: top;\n",
       "    }\n",
       "\n",
       "    .dataframe thead th {\n",
       "        text-align: right;\n",
       "    }\n",
       "</style>\n",
       "<table border=\"1\" class=\"dataframe\">\n",
       "  <thead>\n",
       "    <tr style=\"text-align: right;\">\n",
       "      <th></th>\n",
       "      <th>county</th>\n",
       "      <th>year</th>\n",
       "      <th>month</th>\n",
       "      <th>wildfire_acres</th>\n",
       "    </tr>\n",
       "  </thead>\n",
       "  <tbody>\n",
       "    <tr>\n",
       "      <th>0</th>\n",
       "      <td>Alameda</td>\n",
       "      <td>2000.0</td>\n",
       "      <td>NaN</td>\n",
       "      <td>75.462360</td>\n",
       "    </tr>\n",
       "    <tr>\n",
       "      <th>1</th>\n",
       "      <td>Alameda</td>\n",
       "      <td>2001.0</td>\n",
       "      <td>8.0</td>\n",
       "      <td>117.644700</td>\n",
       "    </tr>\n",
       "    <tr>\n",
       "      <th>2</th>\n",
       "      <td>Alameda</td>\n",
       "      <td>2002.0</td>\n",
       "      <td>6.0</td>\n",
       "      <td>304.263268</td>\n",
       "    </tr>\n",
       "    <tr>\n",
       "      <th>3</th>\n",
       "      <td>Alameda</td>\n",
       "      <td>2003.0</td>\n",
       "      <td>7.0</td>\n",
       "      <td>3.683039</td>\n",
       "    </tr>\n",
       "    <tr>\n",
       "      <th>4</th>\n",
       "      <td>Alameda</td>\n",
       "      <td>2003.0</td>\n",
       "      <td>8.0</td>\n",
       "      <td>4056.569846</td>\n",
       "    </tr>\n",
       "    <tr>\n",
       "      <th>...</th>\n",
       "      <td>...</td>\n",
       "      <td>...</td>\n",
       "      <td>...</td>\n",
       "      <td>...</td>\n",
       "    </tr>\n",
       "    <tr>\n",
       "      <th>7567</th>\n",
       "      <td>Yamhill</td>\n",
       "      <td>2021.0</td>\n",
       "      <td>6.0</td>\n",
       "      <td>0.250000</td>\n",
       "    </tr>\n",
       "    <tr>\n",
       "      <th>7568</th>\n",
       "      <td>Yamhill</td>\n",
       "      <td>2021.0</td>\n",
       "      <td>7.0</td>\n",
       "      <td>9.950000</td>\n",
       "    </tr>\n",
       "    <tr>\n",
       "      <th>7569</th>\n",
       "      <td>Yamhill</td>\n",
       "      <td>2021.0</td>\n",
       "      <td>8.0</td>\n",
       "      <td>0.020000</td>\n",
       "    </tr>\n",
       "    <tr>\n",
       "      <th>7570</th>\n",
       "      <td>Yamhill</td>\n",
       "      <td>2022.0</td>\n",
       "      <td>7.0</td>\n",
       "      <td>1.000000</td>\n",
       "    </tr>\n",
       "    <tr>\n",
       "      <th>7571</th>\n",
       "      <td>Yamhill</td>\n",
       "      <td>2022.0</td>\n",
       "      <td>8.0</td>\n",
       "      <td>1.400000</td>\n",
       "    </tr>\n",
       "  </tbody>\n",
       "</table>\n",
       "<p>7572 rows × 4 columns</p>\n",
       "</div>"
      ],
      "text/plain": [
       "       county    year  month  wildfire_acres\n",
       "0     Alameda  2000.0    NaN       75.462360\n",
       "1     Alameda  2001.0    8.0      117.644700\n",
       "2     Alameda  2002.0    6.0      304.263268\n",
       "3     Alameda  2003.0    7.0        3.683039\n",
       "4     Alameda  2003.0    8.0     4056.569846\n",
       "...       ...     ...    ...             ...\n",
       "7567  Yamhill  2021.0    6.0        0.250000\n",
       "7568  Yamhill  2021.0    7.0        9.950000\n",
       "7569  Yamhill  2021.0    8.0        0.020000\n",
       "7570  Yamhill  2022.0    7.0        1.000000\n",
       "7571  Yamhill  2022.0    8.0        1.400000\n",
       "\n",
       "[7572 rows x 4 columns]"
      ]
     },
     "execution_count": 7,
     "metadata": {},
     "output_type": "execute_result"
    }
   ],
   "source": [
    "#checking to make sure the data looks good\n",
    "fires_check = pd.read_sql('SELECT * FROM wildfires', conn)\n",
    "fires_check"
   ]
  },
  {
   "cell_type": "code",
   "execution_count": 8,
   "id": "10e8ec54-99e2-410d-828e-336d548bb5c2",
   "metadata": {},
   "outputs": [
    {
     "data": {
      "text/html": [
       "<div>\n",
       "<style scoped>\n",
       "    .dataframe tbody tr th:only-of-type {\n",
       "        vertical-align: middle;\n",
       "    }\n",
       "\n",
       "    .dataframe tbody tr th {\n",
       "        vertical-align: top;\n",
       "    }\n",
       "\n",
       "    .dataframe thead th {\n",
       "        text-align: right;\n",
       "    }\n",
       "</style>\n",
       "<table border=\"1\" class=\"dataframe\">\n",
       "  <thead>\n",
       "    <tr style=\"text-align: right;\">\n",
       "      <th></th>\n",
       "      <th>county_name</th>\n",
       "      <th>county_fips</th>\n",
       "      <th>year</th>\n",
       "      <th>month</th>\n",
       "      <th>date</th>\n",
       "      <th>precipitation_total_km3</th>\n",
       "      <th>max_temperature_c</th>\n",
       "    </tr>\n",
       "  </thead>\n",
       "  <tbody>\n",
       "    <tr>\n",
       "      <th>0</th>\n",
       "      <td>Wahkiakum</td>\n",
       "      <td>69</td>\n",
       "      <td>2000</td>\n",
       "      <td>1</td>\n",
       "      <td>2000-01-01</td>\n",
       "      <td>0.396535</td>\n",
       "      <td>8.536</td>\n",
       "    </tr>\n",
       "    <tr>\n",
       "      <th>1</th>\n",
       "      <td>Wahkiakum</td>\n",
       "      <td>69</td>\n",
       "      <td>2000</td>\n",
       "      <td>2</td>\n",
       "      <td>2000-02-01</td>\n",
       "      <td>0.196691</td>\n",
       "      <td>10.657</td>\n",
       "    </tr>\n",
       "    <tr>\n",
       "      <th>2</th>\n",
       "      <td>Wahkiakum</td>\n",
       "      <td>69</td>\n",
       "      <td>2000</td>\n",
       "      <td>3</td>\n",
       "      <td>2000-03-01</td>\n",
       "      <td>0.213708</td>\n",
       "      <td>11.328</td>\n",
       "    </tr>\n",
       "    <tr>\n",
       "      <th>3</th>\n",
       "      <td>Wahkiakum</td>\n",
       "      <td>69</td>\n",
       "      <td>2000</td>\n",
       "      <td>4</td>\n",
       "      <td>2000-04-01</td>\n",
       "      <td>0.132705</td>\n",
       "      <td>16.417</td>\n",
       "    </tr>\n",
       "    <tr>\n",
       "      <th>4</th>\n",
       "      <td>Wahkiakum</td>\n",
       "      <td>69</td>\n",
       "      <td>2000</td>\n",
       "      <td>5</td>\n",
       "      <td>2000-05-01</td>\n",
       "      <td>0.139677</td>\n",
       "      <td>17.844</td>\n",
       "    </tr>\n",
       "  </tbody>\n",
       "</table>\n",
       "</div>"
      ],
      "text/plain": [
       "  county_name  county_fips  year  month        date  precipitation_total_km3  \\\n",
       "0   Wahkiakum           69  2000      1  2000-01-01                 0.396535   \n",
       "1   Wahkiakum           69  2000      2  2000-02-01                 0.196691   \n",
       "2   Wahkiakum           69  2000      3  2000-03-01                 0.213708   \n",
       "3   Wahkiakum           69  2000      4  2000-04-01                 0.132705   \n",
       "4   Wahkiakum           69  2000      5  2000-05-01                 0.139677   \n",
       "\n",
       "   max_temperature_c  \n",
       "0              8.536  \n",
       "1             10.657  \n",
       "2             11.328  \n",
       "3             16.417  \n",
       "4             17.844  "
      ]
     },
     "execution_count": 8,
     "metadata": {},
     "output_type": "execute_result"
    }
   ],
   "source": [
    "#inspecting data frame for SQL table\n",
    "prism = pd.read_csv(\"all_county_prism_data.csv\")\n",
    "prism.head()\n",
    "#prism.dtypes\n",
    "#print(prism.columns)"
   ]
  },
  {
   "cell_type": "markdown",
   "id": "9b381877-bb6f-4572-91ac-64e72b31a9ee",
   "metadata": {},
   "source": [
    "**Creating table for prism data**"
   ]
  },
  {
   "cell_type": "code",
   "execution_count": 9,
   "id": "b0d4e4bd-2fa4-4fcf-b5ed-a5457ffe1d9f",
   "metadata": {},
   "outputs": [
    {
     "data": {
      "text/plain": [
       "<sqlite3.Cursor at 0x28219871cc0>"
      ]
     },
     "execution_count": 9,
     "metadata": {},
     "output_type": "execute_result"
    }
   ],
   "source": [
    "#drop table if edits are needed\n",
    "c.execute(\"\"\" DROP TABLE IF EXISTS prism \"\"\")\n",
    "\n",
    "\n",
    "#create new table for prism data\n",
    "c.execute(\"\"\" CREATE TABLE prism (\n",
    "            county_name VARCHAR(50),\n",
    "            county_fips INT(10),\n",
    "            year INT(5),\n",
    "            month INT(3),\n",
    "            date DATE,\n",
    "            precipitation_total_km3 FLOAT (25),\n",
    "            max_temperature_c FLOAT (10)\n",
    "            ) \"\"\")"
   ]
  },
  {
   "cell_type": "code",
   "execution_count": 10,
   "id": "e3038ef8-3c71-4f0b-bdcf-edf5bdb5c1a1",
   "metadata": {},
   "outputs": [
    {
     "data": {
      "text/plain": [
       "33516"
      ]
     },
     "execution_count": 10,
     "metadata": {},
     "output_type": "execute_result"
    }
   ],
   "source": [
    "#filling the table with data\n",
    "prism.to_sql('prism', conn, if_exists='append', index=False)"
   ]
  },
  {
   "cell_type": "code",
   "execution_count": 11,
   "id": "19b73567-0e48-47f2-bd63-745e84dbea4b",
   "metadata": {},
   "outputs": [
    {
     "data": {
      "text/html": [
       "<div>\n",
       "<style scoped>\n",
       "    .dataframe tbody tr th:only-of-type {\n",
       "        vertical-align: middle;\n",
       "    }\n",
       "\n",
       "    .dataframe tbody tr th {\n",
       "        vertical-align: top;\n",
       "    }\n",
       "\n",
       "    .dataframe thead th {\n",
       "        text-align: right;\n",
       "    }\n",
       "</style>\n",
       "<table border=\"1\" class=\"dataframe\">\n",
       "  <thead>\n",
       "    <tr style=\"text-align: right;\">\n",
       "      <th></th>\n",
       "      <th>county_name</th>\n",
       "      <th>county_fips</th>\n",
       "      <th>year</th>\n",
       "      <th>month</th>\n",
       "      <th>date</th>\n",
       "      <th>precipitation_total_km3</th>\n",
       "      <th>max_temperature_c</th>\n",
       "    </tr>\n",
       "  </thead>\n",
       "  <tbody>\n",
       "    <tr>\n",
       "      <th>0</th>\n",
       "      <td>Wahkiakum</td>\n",
       "      <td>69</td>\n",
       "      <td>2000</td>\n",
       "      <td>1</td>\n",
       "      <td>2000-01-01</td>\n",
       "      <td>0.396535</td>\n",
       "      <td>8.536</td>\n",
       "    </tr>\n",
       "    <tr>\n",
       "      <th>1</th>\n",
       "      <td>Wahkiakum</td>\n",
       "      <td>69</td>\n",
       "      <td>2000</td>\n",
       "      <td>2</td>\n",
       "      <td>2000-02-01</td>\n",
       "      <td>0.196691</td>\n",
       "      <td>10.657</td>\n",
       "    </tr>\n",
       "    <tr>\n",
       "      <th>2</th>\n",
       "      <td>Wahkiakum</td>\n",
       "      <td>69</td>\n",
       "      <td>2000</td>\n",
       "      <td>3</td>\n",
       "      <td>2000-03-01</td>\n",
       "      <td>0.213708</td>\n",
       "      <td>11.328</td>\n",
       "    </tr>\n",
       "    <tr>\n",
       "      <th>3</th>\n",
       "      <td>Wahkiakum</td>\n",
       "      <td>69</td>\n",
       "      <td>2000</td>\n",
       "      <td>4</td>\n",
       "      <td>2000-04-01</td>\n",
       "      <td>0.132705</td>\n",
       "      <td>16.417</td>\n",
       "    </tr>\n",
       "    <tr>\n",
       "      <th>4</th>\n",
       "      <td>Wahkiakum</td>\n",
       "      <td>69</td>\n",
       "      <td>2000</td>\n",
       "      <td>5</td>\n",
       "      <td>2000-05-01</td>\n",
       "      <td>0.139677</td>\n",
       "      <td>17.844</td>\n",
       "    </tr>\n",
       "    <tr>\n",
       "      <th>...</th>\n",
       "      <td>...</td>\n",
       "      <td>...</td>\n",
       "      <td>...</td>\n",
       "      <td>...</td>\n",
       "      <td>...</td>\n",
       "      <td>...</td>\n",
       "      <td>...</td>\n",
       "    </tr>\n",
       "    <tr>\n",
       "      <th>33511</th>\n",
       "      <td>Skamania</td>\n",
       "      <td>59</td>\n",
       "      <td>2020</td>\n",
       "      <td>8</td>\n",
       "      <td>2020-08-01</td>\n",
       "      <td>0.057215</td>\n",
       "      <td>28.443</td>\n",
       "    </tr>\n",
       "    <tr>\n",
       "      <th>33512</th>\n",
       "      <td>Skamania</td>\n",
       "      <td>59</td>\n",
       "      <td>2020</td>\n",
       "      <td>9</td>\n",
       "      <td>2020-09-01</td>\n",
       "      <td>0.573716</td>\n",
       "      <td>25.130</td>\n",
       "    </tr>\n",
       "    <tr>\n",
       "      <th>33513</th>\n",
       "      <td>Skamania</td>\n",
       "      <td>59</td>\n",
       "      <td>2020</td>\n",
       "      <td>10</td>\n",
       "      <td>2020-10-01</td>\n",
       "      <td>0.993834</td>\n",
       "      <td>18.700</td>\n",
       "    </tr>\n",
       "    <tr>\n",
       "      <th>33514</th>\n",
       "      <td>Skamania</td>\n",
       "      <td>59</td>\n",
       "      <td>2020</td>\n",
       "      <td>11</td>\n",
       "      <td>2020-11-01</td>\n",
       "      <td>1.840310</td>\n",
       "      <td>10.701</td>\n",
       "    </tr>\n",
       "    <tr>\n",
       "      <th>33515</th>\n",
       "      <td>Skamania</td>\n",
       "      <td>59</td>\n",
       "      <td>2020</td>\n",
       "      <td>12</td>\n",
       "      <td>2020-12-01</td>\n",
       "      <td>1.664755</td>\n",
       "      <td>8.601</td>\n",
       "    </tr>\n",
       "  </tbody>\n",
       "</table>\n",
       "<p>33516 rows × 7 columns</p>\n",
       "</div>"
      ],
      "text/plain": [
       "      county_name  county_fips  year  month        date  \\\n",
       "0       Wahkiakum           69  2000      1  2000-01-01   \n",
       "1       Wahkiakum           69  2000      2  2000-02-01   \n",
       "2       Wahkiakum           69  2000      3  2000-03-01   \n",
       "3       Wahkiakum           69  2000      4  2000-04-01   \n",
       "4       Wahkiakum           69  2000      5  2000-05-01   \n",
       "...           ...          ...   ...    ...         ...   \n",
       "33511    Skamania           59  2020      8  2020-08-01   \n",
       "33512    Skamania           59  2020      9  2020-09-01   \n",
       "33513    Skamania           59  2020     10  2020-10-01   \n",
       "33514    Skamania           59  2020     11  2020-11-01   \n",
       "33515    Skamania           59  2020     12  2020-12-01   \n",
       "\n",
       "       precipitation_total_km3  max_temperature_c  \n",
       "0                     0.396535              8.536  \n",
       "1                     0.196691             10.657  \n",
       "2                     0.213708             11.328  \n",
       "3                     0.132705             16.417  \n",
       "4                     0.139677             17.844  \n",
       "...                        ...                ...  \n",
       "33511                 0.057215             28.443  \n",
       "33512                 0.573716             25.130  \n",
       "33513                 0.993834             18.700  \n",
       "33514                 1.840310             10.701  \n",
       "33515                 1.664755              8.601  \n",
       "\n",
       "[33516 rows x 7 columns]"
      ]
     },
     "execution_count": 11,
     "metadata": {},
     "output_type": "execute_result"
    }
   ],
   "source": [
    "#checking to make sure the data looks good\n",
    "prism_check = pd.read_sql('SELECT * FROM prism', conn)\n",
    "prism_check"
   ]
  },
  {
   "cell_type": "markdown",
   "id": "ea3ca02d-6d60-40a3-92d7-204916a477ca",
   "metadata": {},
   "source": [
    "**Creating table for CDC WONDER mortality data**"
   ]
  },
  {
   "cell_type": "code",
   "execution_count": 12,
   "id": "e1b52264-2b21-4bca-b4f6-8afbac7ea870",
   "metadata": {},
   "outputs": [
    {
     "data": {
      "text/plain": [
       "State           object\n",
       "County          object\n",
       "County Code    float64\n",
       "Year           float64\n",
       "Month          float64\n",
       "Deaths          object\n",
       "Population      object\n",
       "Crude Rate      object\n",
       "dtype: object"
      ]
     },
     "execution_count": 12,
     "metadata": {},
     "output_type": "execute_result"
    }
   ],
   "source": [
    "#inspecting data frame for SQL table\n",
    "cdc_hyp = pd.read_csv(\"cdc-hyperthermia-related-deaths.csv\")\n",
    "cdc_hyp.head()\n",
    "cdc_hyp.dtypes\n",
    "#print(prism.columns)"
   ]
  },
  {
   "cell_type": "code",
   "execution_count": 13,
   "id": "3d11f816-e3ad-4c6c-afea-6550800860b5",
   "metadata": {},
   "outputs": [],
   "source": [
    "#loading in all the cdc data\n",
    "cdc_asth = pd.read_csv(\"cdc-asthma-related-deaths.csv\")\n",
    "cdc_copd = pd.read_csv(\"cdc-copd-related-deaths.csv\")"
   ]
  },
  {
   "cell_type": "code",
   "execution_count": 14,
   "id": "581f4556-0dda-427f-b9cb-7b6666516d45",
   "metadata": {},
   "outputs": [],
   "source": [
    "#renaming dataframe columns to match the SQL tables\n",
    "cdc_hyp.rename(columns={'County Code': 'county_code', 'Crude Rate': 'crude_rate'}, inplace=True)\n",
    "cdc_asth.rename(columns={'County Code': 'county_code', 'Crude Rate': 'crude_rate'}, inplace=True)\n",
    "cdc_copd.rename(columns={'County Code': 'county_code', 'Crude Rate': 'crude_rate'}, inplace=True)"
   ]
  },
  {
   "cell_type": "code",
   "execution_count": 15,
   "id": "897dc77f-3077-48da-a51c-fd9d32c891df",
   "metadata": {},
   "outputs": [
    {
     "data": {
      "text/plain": [
       "<sqlite3.Cursor at 0x28219871cc0>"
      ]
     },
     "execution_count": 15,
     "metadata": {},
     "output_type": "execute_result"
    }
   ],
   "source": [
    "#drop table first if edits are needed\n",
    "c.execute(\"\"\" DROP TABLE IF EXISTS mortality \"\"\")\n",
    "\n",
    "#create new table for mortality data\n",
    "c.execute(\"\"\" CREATE TABLE mortality (\n",
    "            state VARCHAR(50),\n",
    "            county INT(10),\n",
    "            county_code INT(5),\n",
    "            year FLOAT(5),\n",
    "            month FLOAT(3),\n",
    "            deaths VARCHAR(50),\n",
    "            population VARCHAR(50),\n",
    "            crude_rate VARCHAR(50)\n",
    "            ) \"\"\")"
   ]
  },
  {
   "cell_type": "code",
   "execution_count": 16,
   "id": "14f33bd7-6264-4f26-bd66-2006033af65c",
   "metadata": {},
   "outputs": [
    {
     "data": {
      "text/plain": [
       "33560"
      ]
     },
     "execution_count": 16,
     "metadata": {},
     "output_type": "execute_result"
    }
   ],
   "source": [
    "#filling the table with data\n",
    "cdc_hyp.to_sql('mortality', conn, if_exists='append', index=False)\n",
    "cdc_asth.to_sql('mortality', conn, if_exists='append', index=False)\n",
    "cdc_copd.to_sql('mortality', conn, if_exists='append', index=False)"
   ]
  },
  {
   "cell_type": "code",
   "execution_count": 17,
   "id": "b939a25a-f217-4c48-8410-cdcee1b988ec",
   "metadata": {},
   "outputs": [
    {
     "data": {
      "text/html": [
       "<div>\n",
       "<style scoped>\n",
       "    .dataframe tbody tr th:only-of-type {\n",
       "        vertical-align: middle;\n",
       "    }\n",
       "\n",
       "    .dataframe tbody tr th {\n",
       "        vertical-align: top;\n",
       "    }\n",
       "\n",
       "    .dataframe thead th {\n",
       "        text-align: right;\n",
       "    }\n",
       "</style>\n",
       "<table border=\"1\" class=\"dataframe\">\n",
       "  <thead>\n",
       "    <tr style=\"text-align: right;\">\n",
       "      <th></th>\n",
       "      <th>state</th>\n",
       "      <th>county</th>\n",
       "      <th>county_code</th>\n",
       "      <th>year</th>\n",
       "      <th>month</th>\n",
       "      <th>deaths</th>\n",
       "      <th>population</th>\n",
       "      <th>crude_rate</th>\n",
       "    </tr>\n",
       "  </thead>\n",
       "  <tbody>\n",
       "    <tr>\n",
       "      <th>0</th>\n",
       "      <td>Washington</td>\n",
       "      <td>Adams County, WA</td>\n",
       "      <td>53001.0</td>\n",
       "      <td>2000.0</td>\n",
       "      <td>1.0</td>\n",
       "      <td>0</td>\n",
       "      <td>Not Applicable</td>\n",
       "      <td>Not Applicable</td>\n",
       "    </tr>\n",
       "    <tr>\n",
       "      <th>1</th>\n",
       "      <td>Washington</td>\n",
       "      <td>Adams County, WA</td>\n",
       "      <td>53001.0</td>\n",
       "      <td>2000.0</td>\n",
       "      <td>2.0</td>\n",
       "      <td>0</td>\n",
       "      <td>Not Applicable</td>\n",
       "      <td>Not Applicable</td>\n",
       "    </tr>\n",
       "    <tr>\n",
       "      <th>2</th>\n",
       "      <td>Washington</td>\n",
       "      <td>Adams County, WA</td>\n",
       "      <td>53001.0</td>\n",
       "      <td>2000.0</td>\n",
       "      <td>3.0</td>\n",
       "      <td>0</td>\n",
       "      <td>Not Applicable</td>\n",
       "      <td>Not Applicable</td>\n",
       "    </tr>\n",
       "    <tr>\n",
       "      <th>3</th>\n",
       "      <td>Washington</td>\n",
       "      <td>Adams County, WA</td>\n",
       "      <td>53001.0</td>\n",
       "      <td>2000.0</td>\n",
       "      <td>4.0</td>\n",
       "      <td>0</td>\n",
       "      <td>Not Applicable</td>\n",
       "      <td>Not Applicable</td>\n",
       "    </tr>\n",
       "    <tr>\n",
       "      <th>4</th>\n",
       "      <td>Washington</td>\n",
       "      <td>Adams County, WA</td>\n",
       "      <td>53001.0</td>\n",
       "      <td>2000.0</td>\n",
       "      <td>5.0</td>\n",
       "      <td>0</td>\n",
       "      <td>Not Applicable</td>\n",
       "      <td>Not Applicable</td>\n",
       "    </tr>\n",
       "  </tbody>\n",
       "</table>\n",
       "</div>"
      ],
      "text/plain": [
       "        state            county  county_code    year  month deaths  \\\n",
       "0  Washington  Adams County, WA      53001.0  2000.0    1.0      0   \n",
       "1  Washington  Adams County, WA      53001.0  2000.0    2.0      0   \n",
       "2  Washington  Adams County, WA      53001.0  2000.0    3.0      0   \n",
       "3  Washington  Adams County, WA      53001.0  2000.0    4.0      0   \n",
       "4  Washington  Adams County, WA      53001.0  2000.0    5.0      0   \n",
       "\n",
       "       population      crude_rate  \n",
       "0  Not Applicable  Not Applicable  \n",
       "1  Not Applicable  Not Applicable  \n",
       "2  Not Applicable  Not Applicable  \n",
       "3  Not Applicable  Not Applicable  \n",
       "4  Not Applicable  Not Applicable  "
      ]
     },
     "execution_count": 17,
     "metadata": {},
     "output_type": "execute_result"
    }
   ],
   "source": [
    "cdc_check = pd.read_sql('SELECT * FROM mortality', conn)\n",
    "cdc_check.head()"
   ]
  },
  {
   "cell_type": "code",
   "execution_count": 18,
   "id": "ea6d74b4-1498-4aa7-bd40-bb91a4a8f4c4",
   "metadata": {},
   "outputs": [],
   "source": [
    "conn.commit()"
   ]
  },
  {
   "cell_type": "code",
   "execution_count": 19,
   "id": "b179deb8-5e28-48a3-8760-be85ea707c14",
   "metadata": {},
   "outputs": [],
   "source": [
    "conn.close()"
   ]
  }
 ],
 "metadata": {
  "kernelspec": {
   "display_name": "Python 3 (ipykernel)",
   "language": "python",
   "name": "python3"
  },
  "language_info": {
   "codemirror_mode": {
    "name": "ipython",
    "version": 3
   },
   "file_extension": ".py",
   "mimetype": "text/x-python",
   "name": "python",
   "nbconvert_exporter": "python",
   "pygments_lexer": "ipython3",
   "version": "3.13.0"
  }
 },
 "nbformat": 4,
 "nbformat_minor": 5
}
