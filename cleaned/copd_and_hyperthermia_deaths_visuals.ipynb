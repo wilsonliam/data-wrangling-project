{
 "cells": [
  {
   "attachments": {},
   "cell_type": "markdown",
   "metadata": {},
   "source": [
    "code to combine copd and hyperthermia datasets into one"
   ]
  },
  {
   "cell_type": "code",
   "execution_count": 1,
   "metadata": {},
   "outputs": [
    {
     "name": "stdout",
     "output_type": "stream",
     "text": [
      "        State            County County Code    Year Month Deaths  \\\n",
      "0  Washington  Adams County, WA     53001.0  2000.0   1.0      0   \n",
      "1  Washington  Adams County, WA     53001.0  2000.0   2.0      0   \n",
      "2  Washington  Adams County, WA     53001.0  2000.0   3.0      0   \n",
      "3  Washington  Adams County, WA     53001.0  2000.0   4.0      0   \n",
      "4  Washington  Adams County, WA     53001.0  2000.0   5.0      0   \n",
      "\n",
      "       Population      Crude Rate         Cause  \n",
      "0  Not Applicable  Not Applicable  Hyperthermia  \n",
      "1  Not Applicable  Not Applicable  Hyperthermia  \n",
      "2  Not Applicable  Not Applicable  Hyperthermia  \n",
      "3  Not Applicable  Not Applicable  Hyperthermia  \n",
      "4  Not Applicable  Not Applicable  Hyperthermia  \n"
     ]
    }
   ],
   "source": [
    "import pandas as pd\n",
    "\n",
    "# File paths\n",
    "file1 = 'cdc-hyperthermia-related-deaths.csv'\n",
    "file2 = 'cdc-copd-related-deaths.csv'\n",
    "\n",
    "# Read both CSVs\n",
    "df1 = pd.read_csv(file1)\n",
    "df2 = pd.read_csv(file2, header=None)\n",
    "\n",
    "# Assign column names to df2 to match df1 (if needed)\n",
    "df2.columns = df1.columns\n",
    "\n",
    "# Add a column to indicate the source/cause if desired\n",
    "df1['Cause'] = 'Hyperthermia'\n",
    "df2['Cause'] = 'COPD'\n",
    "\n",
    "# Combine the datasets\n",
    "combined_df = pd.concat([df1, df2], ignore_index=True)\n",
    "\n",
    "# Save or use combined_df as needed\n",
    "print(combined_df.head())"
   ]
  },
  {
   "attachments": {},
   "cell_type": "markdown",
   "metadata": {},
   "source": [
    "find which months of each year had the highest number of copd and hyperthermia deaths"
   ]
  },
  {
   "cell_type": "code",
   "execution_count": 1,
   "metadata": {},
   "outputs": [
    {
     "name": "stdout",
     "output_type": "stream",
     "text": [
      "           Cause    Year  Month  Deaths\n",
      "0           COPD  2000.0    1.0  1635.0\n",
      "1           COPD  2001.0    3.0  1202.0\n",
      "2           COPD  2002.0    3.0  1279.0\n",
      "3           COPD  2003.0   12.0  1543.0\n",
      "4           COPD  2004.0    1.0  1347.0\n",
      "5           COPD  2005.0   12.0  1320.0\n",
      "6           COPD  2006.0    1.0  1402.0\n",
      "7           COPD  2007.0    1.0  1225.0\n",
      "8           COPD  2008.0    2.0  1548.0\n",
      "9           COPD  2009.0    3.0  1273.0\n",
      "10          COPD  2010.0    3.0  1375.0\n",
      "11          COPD  2011.0    3.0  1472.0\n",
      "12          COPD  2012.0    3.0  1364.0\n",
      "13          COPD  2013.0    1.0  1624.0\n",
      "14          COPD  2014.0    1.0  1531.0\n",
      "15          COPD  2015.0    1.0  1590.0\n",
      "16          COPD  2016.0    3.0  1511.0\n",
      "17          COPD  2017.0    1.0  1808.0\n",
      "18          COPD  2018.0    1.0  1763.0\n",
      "19          COPD  2019.0    3.0  1451.0\n",
      "20          COPD  2020.0    3.0  1324.0\n",
      "21  Hyperthermia  2000.0    1.0     0.0\n",
      "22  Hyperthermia  2001.0    1.0     0.0\n",
      "23  Hyperthermia  2002.0    1.0     0.0\n",
      "24  Hyperthermia  2003.0    1.0     0.0\n",
      "25  Hyperthermia  2004.0    1.0     0.0\n",
      "26  Hyperthermia  2005.0    1.0     0.0\n",
      "27  Hyperthermia  2006.0    7.0    40.0\n",
      "28  Hyperthermia  2007.0    1.0     0.0\n",
      "29  Hyperthermia  2008.0    1.0     0.0\n",
      "30  Hyperthermia  2009.0    1.0     0.0\n",
      "31  Hyperthermia  2010.0    1.0     0.0\n",
      "32  Hyperthermia  2011.0    1.0     0.0\n",
      "33  Hyperthermia  2012.0    1.0     0.0\n",
      "34  Hyperthermia  2013.0    1.0     0.0\n",
      "35  Hyperthermia  2014.0    1.0     0.0\n",
      "36  Hyperthermia  2015.0    1.0     0.0\n",
      "37  Hyperthermia  2016.0    1.0     0.0\n",
      "38  Hyperthermia  2017.0    1.0     0.0\n",
      "39  Hyperthermia  2018.0    1.0     0.0\n",
      "40  Hyperthermia  2019.0    1.0     0.0\n",
      "41  Hyperthermia  2020.0    1.0     0.0\n"
     ]
    }
   ],
   "source": [
    "import pandas as pd\n",
    "\n",
    "# Load both datasets\n",
    "hyperthermia_file = 'cdc-hyperthermia-related-deaths.csv'\n",
    "copd_file = 'cdc-copd-related-deaths.csv'\n",
    "\n",
    "# Read the CSVs\n",
    "hyper_df = pd.read_csv(hyperthermia_file)\n",
    "copd_df = pd.read_csv(copd_file)\n",
    "\n",
    "# Add a 'Cause' column to each for identification\n",
    "hyper_df['Cause'] = 'Hyperthermia'\n",
    "copd_df['Cause'] = 'COPD'\n",
    "\n",
    "# Combine datasets\n",
    "combined = pd.concat([hyper_df, copd_df], ignore_index=True)\n",
    "\n",
    "# Clean 'Deaths' column: convert to numeric, treat 'Suppressed' as NaN\n",
    "combined['Deaths'] = pd.to_numeric(combined['Deaths'], errors='coerce')\n",
    "\n",
    "# Group by Cause, Year, and Month, summing deaths across all counties/states\n",
    "monthly_deaths = (\n",
    "    combined.groupby(['Cause', 'Year', 'Month'])['Deaths']\n",
    "    .sum(min_count=1)\n",
    "    .reset_index()\n",
    ")\n",
    "\n",
    "# Find, for each Cause and Year, the Month(s) with the highest total deaths\n",
    "result = (\n",
    "    monthly_deaths\n",
    "    .sort_values(['Cause', 'Year', 'Deaths'], ascending=[True, True, False])\n",
    "    .groupby(['Cause', 'Year'])\n",
    "    .head(1)\n",
    "    .reset_index(drop=True)\n",
    ")\n",
    "\n",
    "print(result)"
   ]
  },
  {
   "cell_type": "code",
   "execution_count": 2,
   "metadata": {},
   "outputs": [
    {
     "name": "stderr",
     "output_type": "stream",
     "text": [
      "/var/folders/v_/trlscpw51713n08j65gr98c40000gn/T/ipykernel_90683/1406576974.py:50: UserWarning: No artists with labels found to put in legend.  Note that artists whose label start with an underscore are ignored when legend() is called with no argument.\n",
      "  plt.legend(title='Cause')\n"
     ]
    },
    {
     "data": {
      "image/png": "[encoded data removed]",
      "text/plain": [
       "<Figure size 1200x600 with 1 Axes>"
      ]
     },
     "metadata": {},
     "output_type": "display_data"
    }
   ],
   "source": [
    "import pandas as pd\n",
    "import matplotlib.pyplot as plt\n",
    "import seaborn as sns\n",
    "\n",
    "# Load both datasets\n",
    "hyperthermia_file = 'cdc-hyperthermia-related-deaths.csv'\n",
    "copd_file = 'cdc-copd-related-deaths.csv'\n",
    "\n",
    "# Read the CSVs\n",
    "hyper_df = pd.read_csv(hyperthermia_file, header=None)\n",
    "copd_df = pd.read_csv(copd_file, header=None)\n",
    "\n",
    "# Assign column names\n",
    "column_names = ['State', 'County', 'FIPS', 'Year', 'Month', 'Deaths', 'Col7', 'Col8']\n",
    "hyper_df.columns = column_names\n",
    "copd_df.columns = column_names\n",
    "\n",
    "# Add a 'Cause' column to each for identification\n",
    "hyper_df['Cause'] = 'Hyperthermia'\n",
    "copd_df['Cause'] = 'COPD'\n",
    "\n",
    "# Combine datasets\n",
    "combined = pd.concat([hyper_df, copd_df], ignore_index=True)\n",
    "\n",
    "# Convert the 'Deaths' column to numeric, treating 'Suppressed' as missing\n",
    "combined['Deaths'] = pd.to_numeric(combined['Deaths'], errors='coerce')\n",
    "\n",
    "# Group by Cause, Year, and Month, summing deaths across all counties/states\n",
    "monthly_deaths = (\n",
    "    combined.groupby(['Cause', 'Year', 'Month'])['Deaths']\n",
    "    .sum(min_count=1)\n",
    "    .reset_index()\n",
    ")\n",
    "\n",
    "# Choose a year to visualize (e.g., 2009)\n",
    "year_to_plot = 2009\n",
    "plot_data = monthly_deaths[monthly_deaths['Year'] == year_to_plot]\n",
    "\n",
    "plt.figure(figsize=(12, 6))\n",
    "sns.barplot(\n",
    "    data=plot_data,\n",
    "    x='Month',\n",
    "    y='Deaths',\n",
    "    hue='Cause',\n",
    "    palette={'COPD': 'steelblue', 'Hyperthermia': 'tomato'}\n",
    ")\n",
    "plt.title(f'Monthly Deaths by Cause in {year_to_plot}')\n",
    "plt.xlabel('Month')\n",
    "plt.ylabel('Number of Deaths')\n",
    "plt.legend(title='Cause')\n",
    "plt.tight_layout()\n",
    "plt.show()"
   ]
  },
  {
   "attachments": {},
   "cell_type": "markdown",
   "metadata": {},
   "source": [
    "visual is not showing much because hyperthermia deaths are basically zero."
   ]
  }
 ],
 "metadata": {
  "kernelspec": {
   "display_name": "Python 3",
   "language": "python",
   "name": "python3"
  },
  "language_info": {
   "codemirror_mode": {
    "name": "ipython",
    "version": 3
   },
   "file_extension": ".py",
   "mimetype": "text/x-python",
   "name": "python",
   "nbconvert_exporter": "python",
   "pygments_lexer": "ipython3",
   "version": "3.11.1"
  },
  "orig_nbformat": 4,
  "vscode": {
   "interpreter": {
    "hash": "aee8b7b246df8f9039afb4144a1f6fd8d2ca17a180786b69acc140d282b71a49"
   }
  }
 },
 "nbformat": 4,
 "nbformat_minor": 2
}
