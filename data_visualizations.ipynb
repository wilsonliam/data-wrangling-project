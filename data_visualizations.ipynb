{
 "cells": [
  {
   "cell_type": "code",
   "execution_count": 30,
   "metadata": {},
   "outputs": [],
   "source": [
    "import pandas as pd\n",
    "import numpy as np\n",
    "import matplotlib.pyplot as plt\n",
    "import seaborn as sns\n",
    "import geopandas as gpd\n",
    "from libpysal.weights import Queen\n",
    "from esda.moran import Moran"
   ]
  },
  {
   "attachments": {},
   "cell_type": "markdown",
   "metadata": {},
   "source": [
    "1. Data Prep and Integration"
   ]
  },
  {
   "cell_type": "code",
   "execution_count": 33,
   "metadata": {},
   "outputs": [],
   "source": [
    "def load_data(filepath):\n",
    "    df = pd.read_csv('/Users/BMI_6106/all_county_prism_data.csv', \n",
    "                    dtype={'Year': str, 'Month': str},\n",
    "                    na_values=['Suppressed', 'Not Applicable'])\n",
    "    "
   ]
  },
  {
   "cell_type": "code",
   "execution_count": 36,
   "metadata": {},
   "outputs": [],
   "source": [
    "df['Year'] = df['Year'].astype(str).str.split('.').str[0].astype(int)\n",
    "df['Month'] = df['Month'].astype(str).str.split('.').str[0].astype(int)"
   ]
  },
  {
   "cell_type": "code",
   "execution_count": 37,
   "metadata": {},
   "outputs": [],
   "source": [
    "def load_clean_data(filepath):\n",
    "    df = pd.read_csv(filepath)\n",
    "    \n",
    "    # Handle suppressed values and missing data\n",
    "    df['Deaths'] = pd.to_numeric(\n",
    "        df['Deaths'].replace({'Suppressed': np.nan}), \n",
    "        errors='coerce'\n",
    "    )\n",
    "    \n",
    "    # Clean Year/Month columns\n",
    "    df['Year'] = df['Year'].astype(str).str.split('.').str[0].astype(int)\n",
    "    df['Month'] = df['Month'].astype(str).str.split('.').str[0].astype(int)\n",
    "    \n",
    "    # Create datetime column\n",
    "    df['Date'] = pd.to_datetime(\n",
    "        df['Year'].astype(str) + '-' + df['Month'].astype(str), \n",
    "        format='%Y-%m'\n",
    "    )\n",
    "    \n",
    "    return df"
   ]
  },
  {
   "cell_type": "code",
   "execution_count": 42,
   "metadata": {},
   "outputs": [],
   "source": [
    "copd_df = load_data('/Users/BMI_6106/cdc-copd-related-deaths.csv')"
   ]
  },
  {
   "cell_type": "code",
   "execution_count": 45,
   "metadata": {},
   "outputs": [],
   "source": [
    "def load_clean_data(filepath):\n",
    "    df = pd.read_csv(filepath)\n",
    "\n",
    "    # Handle suppressed values and missing data\n",
    "    df['Deaths'] = pd.to_numeric(df['Deaths'].replace({'Suppressed': np.nan}), errors='coerce')\n",
    "\n",
    "    # Safely convert Year and Month to numeric, handling missing values\n",
    "    df['Year'] = pd.to_numeric(df['Year'], errors='coerce')\n",
    "    df['Month'] = pd.to_numeric(df['Month'], errors='coerce')\n",
    "\n",
    "    # Drop rows where Year or Month is missing\n",
    "    df = df.dropna(subset=['Year', 'Month'])\n",
    "\n",
    "    # Convert to integer after dropping NaNs\n",
    "    df['Year'] = df['Year'].astype(int)\n",
    "    df['Month'] = df['Month'].astype(int)\n",
    "\n",
    "    # Create datetime column\n",
    "    df['Date'] = pd.to_datetime(df['Year'].astype(str) + '-' + df['Month'].astype(str), format='%Y-%m')\n",
    "\n",
    "    return df"
   ]
  },
  {
   "cell_type": "code",
   "execution_count": 47,
   "metadata": {},
   "outputs": [
    {
     "name": "stdout",
     "output_type": "stream",
     "text": [
      "<class 'NoneType'>\n"
     ]
    },
    {
     "ename": "AttributeError",
     "evalue": "'NoneType' object has no attribute 'head'",
     "output_type": "error",
     "traceback": [
      "\u001b[0;31m---------------------------------------------------------------------------\u001b[0m",
      "\u001b[0;31mAttributeError\u001b[0m                            Traceback (most recent call last)",
      "Cell \u001b[0;32mIn[47], line 2\u001b[0m\n\u001b[1;32m      1\u001b[0m \u001b[39mprint\u001b[39m(\u001b[39mtype\u001b[39m(copd_df))\n\u001b[0;32m----> 2\u001b[0m \u001b[39mprint\u001b[39m(copd_df\u001b[39m.\u001b[39;49mhead())\n",
      "\u001b[0;31mAttributeError\u001b[0m: 'NoneType' object has no attribute 'head'"
     ]
    }
   ],
   "source": [
    "print(type(copd_df))\n",
    "print(copd_df.head())"
   ]
  },
  {
   "attachments": {},
   "cell_type": "markdown",
   "metadata": {},
   "source": [
    "2. Temporal Analysis - COPD Mortality Trends"
   ]
  },
  {
   "cell_type": "code",
   "execution_count": 39,
   "metadata": {},
   "outputs": [
    {
     "ename": "AttributeError",
     "evalue": "'NoneType' object has no attribute 'set_index'",
     "output_type": "error",
     "traceback": [
      "\u001b[0;31m---------------------------------------------------------------------------\u001b[0m",
      "\u001b[0;31mAttributeError\u001b[0m                            Traceback (most recent call last)",
      "Cell \u001b[0;32mIn[39], line 19\u001b[0m\n\u001b[1;32m     16\u001b[0m     plt\u001b[39m.\u001b[39mtight_layout()\n\u001b[1;32m     17\u001b[0m     plt\u001b[39m.\u001b[39mshow()\n\u001b[0;32m---> 19\u001b[0m plot_temporal_trends(copd_df)\n",
      "Cell \u001b[0;32mIn[39], line 5\u001b[0m, in \u001b[0;36mplot_temporal_trends\u001b[0;34m(df)\u001b[0m\n\u001b[1;32m      2\u001b[0m plt\u001b[39m.\u001b[39mfigure(figsize\u001b[39m=\u001b[39m(\u001b[39m14\u001b[39m, \u001b[39m7\u001b[39m))\n\u001b[1;32m      4\u001b[0m \u001b[39m# Resample to quarterly frequency\u001b[39;00m\n\u001b[0;32m----> 5\u001b[0m temp_df \u001b[39m=\u001b[39m df\u001b[39m.\u001b[39;49mset_index(\u001b[39m'\u001b[39m\u001b[39mDate\u001b[39m\u001b[39m'\u001b[39m)\u001b[39m.\u001b[39mresample(\u001b[39m'\u001b[39m\u001b[39mQ\u001b[39m\u001b[39m'\u001b[39m)[\u001b[39m'\u001b[39m\u001b[39mDeaths\u001b[39m\u001b[39m'\u001b[39m]\u001b[39m.\u001b[39msum()\u001b[39m.\u001b[39mreset_index()\n\u001b[1;32m      7\u001b[0m sns\u001b[39m.\u001b[39mlineplot(data\u001b[39m=\u001b[39mtemp_df, x\u001b[39m=\u001b[39m\u001b[39m'\u001b[39m\u001b[39mDate\u001b[39m\u001b[39m'\u001b[39m, y\u001b[39m=\u001b[39m\u001b[39m'\u001b[39m\u001b[39mDeaths\u001b[39m\u001b[39m'\u001b[39m,\n\u001b[1;32m      8\u001b[0m             estimator\u001b[39m=\u001b[39m\u001b[39m'\u001b[39m\u001b[39msum\u001b[39m\u001b[39m'\u001b[39m, errorbar\u001b[39m=\u001b[39m\u001b[39mNone\u001b[39;00m,\n\u001b[1;32m      9\u001b[0m             linewidth\u001b[39m=\u001b[39m\u001b[39m2\u001b[39m, color\u001b[39m=\u001b[39m\u001b[39m'\u001b[39m\u001b[39m#e34a33\u001b[39m\u001b[39m'\u001b[39m)\n\u001b[1;32m     11\u001b[0m plt\u001b[39m.\u001b[39mtitle(\u001b[39m'\u001b[39m\u001b[39mQuarterly COPD-Related Deaths in Coastal Western USA (2000-2020)\u001b[39m\u001b[39m\\n\u001b[39;00m\u001b[39m'\u001b[39m,\n\u001b[1;32m     12\u001b[0m          fontsize\u001b[39m=\u001b[39m\u001b[39m14\u001b[39m, fontweight\u001b[39m=\u001b[39m\u001b[39m'\u001b[39m\u001b[39mbold\u001b[39m\u001b[39m'\u001b[39m)\n",
      "\u001b[0;31mAttributeError\u001b[0m: 'NoneType' object has no attribute 'set_index'"
     ]
    },
    {
     "data": {
      "text/plain": [
       "<Figure size 1400x700 with 0 Axes>"
      ]
     },
     "metadata": {},
     "output_type": "display_data"
    }
   ],
   "source": [
    "def plot_temporal_trends(df):\n",
    "    plt.figure(figsize=(14, 7))\n",
    "    \n",
    "    # Resample to quarterly frequency\n",
    "    temp_df = df.set_index('Date').resample('Q')['Deaths'].sum().reset_index()\n",
    "    \n",
    "    sns.lineplot(data=temp_df, x='Date', y='Deaths',\n",
    "                estimator='sum', errorbar=None,\n",
    "                linewidth=2, color='#e34a33')\n",
    "    \n",
    "    plt.title('Quarterly COPD-Related Deaths in Coastal Western USA (2000-2020)\\n',\n",
    "             fontsize=14, fontweight='bold')\n",
    "    plt.xlabel('')\n",
    "    plt.ylabel('Total Deaths', fontsize=12)\n",
    "    plt.grid(True, alpha=0.3)\n",
    "    plt.tight_layout()\n",
    "    plt.show()\n",
    "\n",
    "plot_temporal_trends(copd_df)\n"
   ]
  }
 ],
 "metadata": {
  "kernelspec": {
   "display_name": "Python 3",
   "language": "python",
   "name": "python3"
  },
  "language_info": {
   "codemirror_mode": {
    "name": "ipython",
    "version": 3
   },
   "file_extension": ".py",
   "mimetype": "text/x-python",
   "name": "python",
   "nbconvert_exporter": "python",
   "pygments_lexer": "ipython3",
   "version": "3.11.1"
  },
  "orig_nbformat": 4,
  "vscode": {
   "interpreter": {
    "hash": "aee8b7b246df8f9039afb4144a1f6fd8d2ca17a180786b69acc140d282b71a49"
   }
  }
 },
 "nbformat": 4,
 "nbformat_minor": 2
}
